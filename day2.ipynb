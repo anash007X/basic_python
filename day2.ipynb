{
 "cells": [
  {
   "cell_type": "markdown",
   "id": "2039f109-5ec2-4dbb-8f00-b4221cc1afdb",
   "metadata": {},
   "source": [
    "LIST\n"
   ]
  },
  {
   "cell_type": "code",
   "execution_count": 2,
   "id": "6949594e-8124-4b91-8655-106e321d818a",
   "metadata": {},
   "outputs": [
    {
     "name": "stdout",
     "output_type": "stream",
     "text": [
      "[1, 2, 3, 4, 5]\n"
     ]
    }
   ],
   "source": [
    "l=[1,2,3,4,5]\n",
    "print(l)"
   ]
  },
  {
   "cell_type": "code",
   "execution_count": 4,
   "id": "b78d3dc5-7d62-45e7-b1ab-ef010914dda0",
   "metadata": {},
   "outputs": [
    {
     "data": {
      "text/plain": [
       "[1, 2, 3, 4, 5]"
      ]
     },
     "execution_count": 4,
     "metadata": {},
     "output_type": "execute_result"
    }
   ],
   "source": [
    "l"
   ]
  },
  {
   "cell_type": "code",
   "execution_count": 6,
   "id": "54bc5df7-c23d-4af3-a277-6f452e106057",
   "metadata": {},
   "outputs": [
    {
     "data": {
      "text/plain": [
       "list"
      ]
     },
     "execution_count": 6,
     "metadata": {},
     "output_type": "execute_result"
    }
   ],
   "source": [
    "type(l)"
   ]
  },
  {
   "cell_type": "code",
   "execution_count": 10,
   "id": "f0a58fcf-f598-4c7a-b982-6bb531704676",
   "metadata": {},
   "outputs": [
    {
     "data": {
      "text/plain": [
       "1"
      ]
     },
     "execution_count": 10,
     "metadata": {},
     "output_type": "execute_result"
    }
   ],
   "source": [
    "l[0]"
   ]
  },
  {
   "cell_type": "code",
   "execution_count": 12,
   "id": "f6d0789a-14ce-4357-81d7-96b0c92ab7b3",
   "metadata": {},
   "outputs": [
    {
     "data": {
      "text/plain": [
       "5"
      ]
     },
     "execution_count": 12,
     "metadata": {},
     "output_type": "execute_result"
    }
   ],
   "source": [
    "l[4]"
   ]
  },
  {
   "cell_type": "code",
   "execution_count": 14,
   "id": "d2dda349-0d0c-41b9-849f-c66b1e26da6f",
   "metadata": {},
   "outputs": [
    {
     "data": {
      "text/plain": [
       "[5, 4, 3, 2, 1]"
      ]
     },
     "execution_count": 14,
     "metadata": {},
     "output_type": "execute_result"
    }
   ],
   "source": [
    "l[::-1]"
   ]
  },
  {
   "cell_type": "code",
   "execution_count": 16,
   "id": "7c5b0758-7f08-4e00-8a4b-95ac673176d2",
   "metadata": {},
   "outputs": [
    {
     "data": {
      "text/plain": [
       "[1, 3]"
      ]
     },
     "execution_count": 16,
     "metadata": {},
     "output_type": "execute_result"
    }
   ],
   "source": [
    "l[0:4:2]"
   ]
  },
  {
   "cell_type": "code",
   "execution_count": 27,
   "id": "4c818fa9-6a3b-42b9-911d-120b3c148f22",
   "metadata": {},
   "outputs": [
    {
     "data": {
      "text/plain": [
       "(9+6j)"
      ]
     },
     "execution_count": 27,
     "metadata": {},
     "output_type": "execute_result"
    }
   ],
   "source": [
    "l1=[1223,345,\"anash\",9+6j,\"kkkk\",6]\n",
    "l1[3]"
   ]
  },
  {
   "cell_type": "code",
   "execution_count": 38,
   "id": "1139f366-b419-474f-820d-be4d114fbe63",
   "metadata": {},
   "outputs": [
    {
     "data": {
      "text/plain": [
       "6"
      ]
     },
     "execution_count": 38,
     "metadata": {},
     "output_type": "execute_result"
    }
   ],
   "source": [
    "l2=[1223,345,\"anash\",9+6j,\"kkkk\",6,[45,87,\"aba\",[7]]]\n",
    "l2[5]"
   ]
  },
  {
   "cell_type": "code",
   "execution_count": 40,
   "id": "4212d21e-cfd5-4bef-a844-cd5b0f2836b8",
   "metadata": {},
   "outputs": [
    {
     "data": {
      "text/plain": [
       "87"
      ]
     },
     "execution_count": 40,
     "metadata": {},
     "output_type": "execute_result"
    }
   ],
   "source": [
    "l2[6][1]"
   ]
  },
  {
   "cell_type": "code",
   "execution_count": 42,
   "id": "a7288536-593c-43d4-a00c-85e37155c7ae",
   "metadata": {},
   "outputs": [],
   "source": [
    "l2[6][1]=50"
   ]
  },
  {
   "cell_type": "code",
   "execution_count": 44,
   "id": "83f9c1a1-bbc5-4f52-a021-b08ca1eb87fe",
   "metadata": {},
   "outputs": [
    {
     "data": {
      "text/plain": [
       "[1223, 345, 'anash', (9+6j), 'kkkk', 6, [45, 50, 'aba', [7]]]"
      ]
     },
     "execution_count": 44,
     "metadata": {},
     "output_type": "execute_result"
    }
   ],
   "source": [
    "l2"
   ]
  },
  {
   "cell_type": "markdown",
   "id": "b40886a9-618d-4bca-adf6-b067b07436a1",
   "metadata": {},
   "source": [
    "############################# set ########################\n",
    "\n",
    "A set is a collection which is unorder,unchagebale,and unindexed.\n",
    "note = set items are unchangable,butn you can remove items and add new items.\n",
    "sets are wrriten with curly brackets.\n",
    "\n"
   ]
  },
  {
   "cell_type": "code",
   "execution_count": 51,
   "id": "e9bfaf7f-8df6-485c-aed2-c4f3d858194c",
   "metadata": {},
   "outputs": [
    {
     "data": {
      "text/plain": [
       "{1, 2, 3, 4}"
      ]
     },
     "execution_count": 51,
     "metadata": {},
     "output_type": "execute_result"
    }
   ],
   "source": [
    "set1={1,2,3,4}\n",
    "set1"
   ]
  },
  {
   "cell_type": "code",
   "execution_count": 53,
   "id": "09a6f5d9-6c41-4ea3-8dd0-1deffdcaba2e",
   "metadata": {},
   "outputs": [
    {
     "data": {
      "text/plain": [
       "{(2, 3, 4), 5}"
      ]
     },
     "execution_count": 53,
     "metadata": {},
     "output_type": "execute_result"
    }
   ],
   "source": [
    "set2={5,(2,3,4)}\n",
    "set2"
   ]
  },
  {
   "cell_type": "code",
   "execution_count": 55,
   "id": "cd8fc370-567d-4356-9573-8e894268ec16",
   "metadata": {},
   "outputs": [
    {
     "ename": "TypeError",
     "evalue": "'set' object does not support item assignment",
     "output_type": "error",
     "traceback": [
      "\u001b[1;31m---------------------------------------------------------------------------\u001b[0m",
      "\u001b[1;31mTypeError\u001b[0m                                 Traceback (most recent call last)",
      "Cell \u001b[1;32mIn[55], line 1\u001b[0m\n\u001b[1;32m----> 1\u001b[0m set2[\u001b[38;5;241m1\u001b[39m]\u001b[38;5;241m=\u001b[39m\u001b[38;5;241m5\u001b[39m\n",
      "\u001b[1;31mTypeError\u001b[0m: 'set' object does not support item assignment"
     ]
    }
   ],
   "source": [
    "set2[1]=5"
   ]
  },
  {
   "cell_type": "markdown",
   "id": "4ed96e04-a2b0-4d83-8e5d-df1496cb580b",
   "metadata": {},
   "source": [
    "######################################## Tuple ##################################"
   ]
  },
  {
   "cell_type": "code",
   "execution_count": 68,
   "id": "ba0ae248-5291-47f6-94a7-46652c2bbf31",
   "metadata": {},
   "outputs": [
    {
     "data": {
      "text/plain": [
       "9"
      ]
     },
     "execution_count": 68,
     "metadata": {},
     "output_type": "execute_result"
    }
   ],
   "source": [
    "t = (2,3,4,5,{2,3,4},6,7,[2,3,4],\"k\")\n",
    "len(t)"
   ]
  },
  {
   "cell_type": "code",
   "execution_count": 70,
   "id": "d81b8ce3-761d-40b1-88f2-dbb2ac3c01ba",
   "metadata": {},
   "outputs": [
    {
     "data": {
      "text/plain": [
       "{2, 3, 4}"
      ]
     },
     "execution_count": 70,
     "metadata": {},
     "output_type": "execute_result"
    }
   ],
   "source": [
    "t[4]"
   ]
  },
  {
   "cell_type": "code",
   "execution_count": 72,
   "id": "e919144c-6357-4964-ad49-9660e24b78e9",
   "metadata": {},
   "outputs": [
    {
     "ename": "TypeError",
     "evalue": "'set' object is not subscriptable",
     "output_type": "error",
     "traceback": [
      "\u001b[1;31m---------------------------------------------------------------------------\u001b[0m",
      "\u001b[1;31mTypeError\u001b[0m                                 Traceback (most recent call last)",
      "Cell \u001b[1;32mIn[72], line 1\u001b[0m\n\u001b[1;32m----> 1\u001b[0m t[\u001b[38;5;241m4\u001b[39m][\u001b[38;5;241m0\u001b[39m]\n",
      "\u001b[1;31mTypeError\u001b[0m: 'set' object is not subscriptable"
     ]
    }
   ],
   "source": [
    "t[4][0]"
   ]
  },
  {
   "cell_type": "code",
   "execution_count": 74,
   "id": "67ac9513-fa98-4671-976e-4dae99f46ab9",
   "metadata": {},
   "outputs": [],
   "source": [
    "################################## Dictionary #################################\n"
   ]
  },
  {
   "cell_type": "code",
   "execution_count": 76,
   "id": "77780262-23ba-4e2f-932a-6ffa50dc9bfe",
   "metadata": {},
   "outputs": [
    {
     "data": {
      "text/plain": [
       "{1: 'rupali', 'B': 'utkarsh', 3: 'vaibhav', 4: 'vivek', 'c': 'nilansi'}"
      ]
     },
     "execution_count": 76,
     "metadata": {},
     "output_type": "execute_result"
    }
   ],
   "source": [
    "a= {1: \"rupali\",\"B\":\"utkarsh\",3:\"vaibhav\",4:\"vivek\",\"c\":\"nilansi\"}\n",
    "a"
   ]
  },
  {
   "cell_type": "code",
   "execution_count": 78,
   "id": "3c049467-7a62-4309-85f4-749537227894",
   "metadata": {},
   "outputs": [
    {
     "data": {
      "text/plain": [
       "'vivek'"
      ]
     },
     "execution_count": 78,
     "metadata": {},
     "output_type": "execute_result"
    }
   ],
   "source": [
    "a[4]"
   ]
  },
  {
   "cell_type": "code",
   "execution_count": 80,
   "id": "f28172bd-8b54-4f9b-af0e-20bd0ac295e8",
   "metadata": {},
   "outputs": [
    {
     "data": {
      "text/plain": [
       "'utkarsh'"
      ]
     },
     "execution_count": 80,
     "metadata": {},
     "output_type": "execute_result"
    }
   ],
   "source": [
    "a[\"B\"]"
   ]
  },
  {
   "cell_type": "code",
   "execution_count": 86,
   "id": "d4f04b2f-e46b-4f37-a16b-219992c8b272",
   "metadata": {},
   "outputs": [
    {
     "data": {
      "text/plain": [
       "{1: 'jalpa',\n",
       " 'B': 'utkarsh',\n",
       " 3: 'meruf',\n",
       " 4: 'vivek',\n",
       " 'c': 'nailansi',\n",
       " 5: [3, 4, 5],\n",
       " 6: {2, 23, 'j'},\n",
       " 7: {'j': 'hj'}}"
      ]
     },
     "execution_count": 86,
     "metadata": {},
     "output_type": "execute_result"
    }
   ],
   "source": [
    "b={1:\"jalpa\",\"B\":\"utkarsh\",3:\"meruf\",4:\"vivek\",\"c\":\"nailansi\",5:[3,4,5],6:{\"j\",2,23},7:{'j':\"hj\"}}\n",
    "b"
   ]
  },
  {
   "cell_type": "code",
   "execution_count": 88,
   "id": "15fbab7a-a274-4f3c-951d-5cfa3bc90473",
   "metadata": {},
   "outputs": [
    {
     "data": {
      "text/plain": [
       "[3, 4, 5]"
      ]
     },
     "execution_count": 88,
     "metadata": {},
     "output_type": "execute_result"
    }
   ],
   "source": [
    "b[5]"
   ]
  },
  {
   "cell_type": "code",
   "execution_count": 90,
   "id": "505028df-73fb-4024-a5c2-f892607fafba",
   "metadata": {},
   "outputs": [
    {
     "data": {
      "text/plain": [
       "5"
      ]
     },
     "execution_count": 90,
     "metadata": {},
     "output_type": "execute_result"
    }
   ],
   "source": [
    "b[5][2]"
   ]
  },
  {
   "cell_type": "code",
   "execution_count": 96,
   "id": "02f86ae4-77ae-4998-87a1-1160e705cd1d",
   "metadata": {},
   "outputs": [
    {
     "data": {
      "text/plain": [
       "'h'"
      ]
     },
     "execution_count": 96,
     "metadata": {},
     "output_type": "execute_result"
    }
   ],
   "source": [
    "b[7][\"j\"][0]"
   ]
  },
  {
   "cell_type": "code",
   "execution_count": 100,
   "id": "6679e8ea-762a-4be0-8747-9d5a982e1fd3",
   "metadata": {},
   "outputs": [],
   "source": [
    "p={\n",
    "    \"glossary\": \n",
    "    {\n",
    "        \"title\": \"example glossary\",\n",
    "\t\t\"GlossDiv\": \n",
    "        {\n",
    "            \"title\": \"S\",\n",
    "\t\t\t\"GlossList\": \n",
    "            {\n",
    "                \"GlossEntry\": \n",
    "                {\n",
    "                    \"ID\": \"SGML\",\n",
    "\t\t\t\t\t\"SortAs\": \"SGML\",\n",
    "\t\t\t\t\t\"GlossTerm\": \"Standard Generalized Markup Language\",\n",
    "\t\t\t\t\t\"Acronym\": \"SGML\",\n",
    "\t\t\t\t\t\"Abbrev\": \"ISO 8879:1986\",\n",
    "\t\t\t\t\t\"GlossDef\": \n",
    "                    {\n",
    "                        \"para\": \"A meta-markup language, used to create markup languages such as DocBook.\",\n",
    "\t\t\t\t\t\t\"GlossSeeAlso\": [\"GML\", \"XML\"]\n",
    "                    },\n",
    "\t\t\t\t\t\"GlossSee\": \"markup\"\n",
    "                }\n",
    "            }\n",
    "        }\n",
    "    }\n",
    "}"
   ]
  },
  {
   "cell_type": "code",
   "execution_count": 102,
   "id": "9a72c63f-882a-4156-a5ea-44fbb6f74bfc",
   "metadata": {},
   "outputs": [
    {
     "data": {
      "text/plain": [
       "'example glossary'"
      ]
     },
     "execution_count": 102,
     "metadata": {},
     "output_type": "execute_result"
    }
   ],
   "source": [
    "p[\"glossary\"][\"title\"]"
   ]
  },
  {
   "cell_type": "code",
   "execution_count": 106,
   "id": "bb92032d-7550-4271-86f8-e376f1f8c8e6",
   "metadata": {},
   "outputs": [
    {
     "data": {
      "text/plain": [
       "'SGML'"
      ]
     },
     "execution_count": 106,
     "metadata": {},
     "output_type": "execute_result"
    }
   ],
   "source": [
    "p[\"glossary\"][\"GlossDiv\"][\"GlossList\"][\"GlossEntry\"][\"ID\"]"
   ]
  },
  {
   "cell_type": "code",
   "execution_count": null,
   "id": "11c7ec50-550c-4fc6-acc8-3a597630a9b4",
   "metadata": {},
   "outputs": [],
   "source": []
  }
 ],
 "metadata": {
  "kernelspec": {
   "display_name": "Python [conda env:base] *",
   "language": "python",
   "name": "conda-base-py"
  },
  "language_info": {
   "codemirror_mode": {
    "name": "ipython",
    "version": 3
   },
   "file_extension": ".py",
   "mimetype": "text/x-python",
   "name": "python",
   "nbconvert_exporter": "python",
   "pygments_lexer": "ipython3",
   "version": "3.12.7"
  }
 },
 "nbformat": 4,
 "nbformat_minor": 5
}
