{
 "cells": [
  {
   "cell_type": "code",
   "execution_count": 6,
   "id": "51c2c99e-ec9d-423e-969f-ab10b0fe9506",
   "metadata": {},
   "outputs": [
    {
     "data": {
      "text/plain": [
       "([1, 2, 3, 4], [1, 2, 3, 4])"
      ]
     },
     "execution_count": 6,
     "metadata": {},
     "output_type": "execute_result"
    }
   ],
   "source": [
    "list1=[1,2,3,4]\n",
    "list2=list1 #mean same memory location\n",
    "\n",
    "list1,list2"
   ]
  },
  {
   "cell_type": "code",
   "execution_count": 10,
   "id": "6231de49-61ce-4612-95af-2b92933e1862",
   "metadata": {},
   "outputs": [
    {
     "name": "stdout",
     "output_type": "stream",
     "text": [
      "2086455805696\n",
      "2086455805696\n"
     ]
    }
   ],
   "source": [
    "list2[1]=100\n",
    "print(id(list2))\n",
    "print(id(list1))"
   ]
  },
  {
   "cell_type": "code",
   "execution_count": 12,
   "id": "5028515f-ac8b-409d-9432-6417c9154d79",
   "metadata": {},
   "outputs": [
    {
     "name": "stdout",
     "output_type": "stream",
     "text": [
      "[1, 100, 3, 4]\n",
      "[1, 100, 3, 4]\n"
     ]
    }
   ],
   "source": [
    "print(list1)\n",
    "print(list2)"
   ]
  },
  {
   "cell_type": "code",
   "execution_count": 14,
   "id": "20b680a2-11be-4043-b86a-807d5fe0b3c3",
   "metadata": {},
   "outputs": [
    {
     "name": "stdout",
     "output_type": "stream",
     "text": [
      "[1, 100, 90, 4]\n",
      "[1, 100, 90, 4]\n",
      "2086455805696\n",
      "2086455805696\n"
     ]
    }
   ],
   "source": [
    "list1[2]=90\n",
    "print(list1)\n",
    "print(list2)\n",
    "print(id(list2))\n",
    "print(id(list1))"
   ]
  },
  {
   "cell_type": "code",
   "execution_count": 22,
   "id": "0143ff3d-d6e9-4b78-a550-2bb84f30786c",
   "metadata": {},
   "outputs": [
    {
     "name": "stdout",
     "output_type": "stream",
     "text": [
      "old list :  [[1, 2, 3], [4, 5, 6], [8, 9, 9]]\n",
      "ID of new list :  2086456125056\n",
      "new list :  [[1, 2, 3], [4, 5, 6], [8, 9, 9]]\n",
      "ID of new list :  2086456125056\n"
     ]
    }
   ],
   "source": [
    "old_list=[[1,2,3],[4,5,6],[8,9,'a']]\n",
    "new_list=old_list\n",
    "\n",
    "new_list[2][2]=9\n",
    "\n",
    "print(\"old list : \",old_list)\n",
    "print(\"ID of new list : \",id(new_list))\n",
    "\n",
    "print(\"new list : \",new_list)\n",
    "print(\"ID of new list : \",id(new_list))"
   ]
  },
  {
   "cell_type": "code",
   "execution_count": 26,
   "id": "f4861a5f-029a-4fa4-aee0-684edbf5b475",
   "metadata": {},
   "outputs": [
    {
     "data": {
      "text/plain": [
       "([1, 100, 90, 4], [1, 100, 90, 4])"
      ]
     },
     "execution_count": 26,
     "metadata": {},
     "output_type": "execute_result"
    }
   ],
   "source": [
    "liosr1=[1,2,3,4]\n",
    "list2=list1.copy()  #make a different memory location\n",
    "\n",
    "list1,list2"
   ]
  },
  {
   "cell_type": "code",
   "execution_count": 28,
   "id": "1c366f34-b4ef-496c-8d70-9fac0a2b6ef0",
   "metadata": {},
   "outputs": [
    {
     "name": "stdout",
     "output_type": "stream",
     "text": [
      "2086455805696\n",
      "2086456257216\n"
     ]
    }
   ],
   "source": [
    "print(id(list1))\n",
    "print(id(list2))"
   ]
  },
  {
   "cell_type": "code",
   "execution_count": 30,
   "id": "9668050f-b39b-48fb-87c4-aec176d36f4e",
   "metadata": {},
   "outputs": [],
   "source": [
    "#shallow copynested list\n"
   ]
  },
  {
   "cell_type": "code",
   "execution_count": 34,
   "id": "12dd29f8-ad59-4522-b5be-592e9218e7cb",
   "metadata": {},
   "outputs": [
    {
     "data": {
      "text/plain": [
       "[[1, 2, 3, 4], [5, 6, 7, 8]]"
      ]
     },
     "execution_count": 34,
     "metadata": {},
     "output_type": "execute_result"
    }
   ],
   "source": [
    "list1=[[1,2,3,4],[5,6,7,8]]\n",
    "list2=list1.copy()\n",
    "\n",
    "list1"
   ]
  },
  {
   "cell_type": "code",
   "execution_count": 36,
   "id": "5e28ea58-0781-4286-a376-6bbb07e5cfd9",
   "metadata": {},
   "outputs": [
    {
     "data": {
      "text/plain": [
       "[[1, 2, 3, 4], [5, 6, 7, 8]]"
      ]
     },
     "execution_count": 36,
     "metadata": {},
     "output_type": "execute_result"
    }
   ],
   "source": [
    "list2"
   ]
  },
  {
   "cell_type": "code",
   "execution_count": 38,
   "id": "7985a537-2ee7-49f8-8dd7-04bc9d2f24a1",
   "metadata": {},
   "outputs": [
    {
     "data": {
      "text/plain": [
       "[[1, 2, 3, 4], [100, 6, 7, 8]]"
      ]
     },
     "execution_count": 38,
     "metadata": {},
     "output_type": "execute_result"
    }
   ],
   "source": [
    "list1[1][0]=100\n",
    "list1"
   ]
  },
  {
   "cell_type": "code",
   "execution_count": 40,
   "id": "93847e7d-f95b-4969-a8a0-8ca8ddc437cc",
   "metadata": {},
   "outputs": [
    {
     "data": {
      "text/plain": [
       "[[1, 2, 3, 4], [100, 6, 7, 8]]"
      ]
     },
     "execution_count": 40,
     "metadata": {},
     "output_type": "execute_result"
    }
   ],
   "source": [
    "list2"
   ]
  },
  {
   "cell_type": "code",
   "execution_count": 42,
   "id": "434a290e-c755-4583-9df7-721a9c951551",
   "metadata": {},
   "outputs": [
    {
     "name": "stdout",
     "output_type": "stream",
     "text": [
      "2086455924992\n",
      "2086455894720\n"
     ]
    }
   ],
   "source": [
    "print(id(list1))\n",
    "print(id(list2))\n"
   ]
  },
  {
   "cell_type": "code",
   "execution_count": 46,
   "id": "a638c7a0-9fae-45b9-9995-5102534f5609",
   "metadata": {},
   "outputs": [],
   "source": [
    "#deep copy"
   ]
  },
  {
   "cell_type": "code",
   "execution_count": 48,
   "id": "e3e4a7e7-1b63-4405-8a4b-5ed4a37efed9",
   "metadata": {},
   "outputs": [
    {
     "name": "stdout",
     "output_type": "stream",
     "text": [
      "old list :  2086401541952\n",
      "new list :  2086401550592\n"
     ]
    }
   ],
   "source": [
    "import copy\n",
    "\n",
    "old_list=[[1,2,3],[4,5,6],[7,8,9]]\n",
    "new_list=copy.deepcopy(old_list)  # defferent memory lovcation\n",
    "\n",
    "print(\"old list : \",id(old_list))\n",
    "print(\"new list : \",id(new_list))"
   ]
  },
  {
   "cell_type": "code",
   "execution_count": 52,
   "id": "ade86c5c-eff5-43fc-b7f5-fbcb74bc6d1d",
   "metadata": {},
   "outputs": [
    {
     "name": "stdout",
     "output_type": "stream",
     "text": [
      "OLD list [[1, 2, 3], [4, 5, 6], [7, 8, 100]]\n",
      "new list [[1, 2, 3], [4, 5, 6], [7, 8, 100]]\n",
      "OLD list 2086415901568\n",
      "new list 2086415898752\n"
     ]
    }
   ],
   "source": [
    "import copy\n",
    "\n",
    "old_list = [[1,2,3],[4,5,6],[7,8,9]]\n",
    "new_list = copy.copy(old_list)\n",
    "new_list[2][2] = 100\n",
    "print(\"OLD list\",old_list)\n",
    "print(\"new list\",new_list)\n",
    "print(\"OLD list\",id(old_list))\n",
    "print(\"new list\",id(new_list))"
   ]
  },
  {
   "cell_type": "code",
   "execution_count": 54,
   "id": "ed412ab8-7f17-472e-87b9-6a87031e9dcd",
   "metadata": {},
   "outputs": [],
   "source": [
    "############################################### Date and time ##############################################"
   ]
  },
  {
   "cell_type": "code",
   "execution_count": 56,
   "id": "eed4c6f1-65ff-491a-9e16-bb718f8e2367",
   "metadata": {},
   "outputs": [
    {
     "name": "stdout",
     "output_type": "stream",
     "text": [
      "2025-01-29 12:11:39.797918\n"
     ]
    }
   ],
   "source": [
    "import datetime\n",
    "datetime_object = datetime.datetime.now()\n",
    "print(datetime_object)"
   ]
  },
  {
   "cell_type": "code",
   "execution_count": 66,
   "id": "2e1a700e-54c9-4808-82dc-56afe54698fc",
   "metadata": {},
   "outputs": [
    {
     "name": "stdout",
     "output_type": "stream",
     "text": [
      "date:  1444-10-13\n"
     ]
    }
   ],
   "source": [
    "from datetime import date\n",
    "my_date = date(1444,10,13)\n",
    "print(\"date: \",my_date)"
   ]
  },
  {
   "cell_type": "code",
   "execution_count": 70,
   "id": "a0452e8a-5bb5-467d-8219-3d274c4d99c1",
   "metadata": {},
   "outputs": [
    {
     "name": "stdout",
     "output_type": "stream",
     "text": [
      "date:  2025-01-29\n"
     ]
    }
   ],
   "source": [
    "from datetime import date\n",
    "today = date.today()\n",
    "print(\"date: \",today)"
   ]
  },
  {
   "cell_type": "code",
   "execution_count": 72,
   "id": "e537cc5a-0855-411a-a58f-54b751df2eb3",
   "metadata": {},
   "outputs": [
    {
     "name": "stdout",
     "output_type": "stream",
     "text": [
      "year:  2025\n",
      "month:  1\n",
      "day :  29\n"
     ]
    }
   ],
   "source": [
    "from datetime import date\n",
    "today = date.today()\n",
    "\n",
    "print(\"year: \",today.year)\n",
    "print(\"month: \",today.month)\n",
    "print(\"day : \",today.day)"
   ]
  },
  {
   "cell_type": "code",
   "execution_count": 78,
   "id": "ccd1f107-a858-42fe-ba35-839e7f71484b",
   "metadata": {},
   "outputs": [],
   "source": [
    "#getting datetime from timestamp"
   ]
  },
  {
   "cell_type": "code",
   "execution_count": 85,
   "id": "3fbb50c0-56f5-453c-812f-9e14862531c8",
   "metadata": {},
   "outputs": [
    {
     "name": "stdout",
     "output_type": "stream",
     "text": [
      "from timestamp:  2263-08-18 04:15:20\n"
     ]
    }
   ],
   "source": [
    "from datetime import datetime\n",
    "date_time = datetime.fromtimestamp(9265963520)\n",
    "print(\"from timestamp: \",date_time)"
   ]
  },
  {
   "cell_type": "code",
   "execution_count": 87,
   "id": "4d516434-462b-4440-acf4-01bdb1870e66",
   "metadata": {},
   "outputs": [
    {
     "name": "stdout",
     "output_type": "stream",
     "text": [
      "1738133726.2084794\n"
     ]
    }
   ],
   "source": [
    "import time \n",
    "current_time = time.time()\n",
    "print(current_time)\n"
   ]
  },
  {
   "cell_type": "code",
   "execution_count": 89,
   "id": "ca836615-ec4a-4e4b-8d45-ddf4e9851c82",
   "metadata": {},
   "outputs": [],
   "source": [
    "#demonstrate time class"
   ]
  },
  {
   "cell_type": "code",
   "execution_count": 91,
   "id": "4fb02779-6c3c-4c26-b7fe-6b7c75101645",
   "metadata": {},
   "outputs": [
    {
     "name": "stdout",
     "output_type": "stream",
     "text": [
      "13:15:45\n"
     ]
    }
   ],
   "source": [
    "from datetime import time\n",
    "\n",
    "#calling the constructor\n",
    "time = time(13,15,45)\n",
    "print(time)"
   ]
  },
  {
   "cell_type": "code",
   "execution_count": 95,
   "id": "5de348f7-b5a3-4175-a7bf-d0f42ac29d29",
   "metadata": {},
   "outputs": [
    {
     "name": "stdout",
     "output_type": "stream",
     "text": [
      "\n",
      "minute 00:15:00\n"
     ]
    }
   ],
   "source": [
    "#with 1 argument\n",
    "from datetime import time\n",
    "time = time(minute=15)\n",
    "print(\"\\nminute\",time)"
   ]
  },
  {
   "cell_type": "code",
   "execution_count": 97,
   "id": "a242acea-521b-4edb-9011-8fed51a5f52f",
   "metadata": {},
   "outputs": [
    {
     "name": "stdout",
     "output_type": "stream",
     "text": [
      "\n",
      "second 00:00:15\n"
     ]
    }
   ],
   "source": [
    "#with 1 argument\n",
    "from datetime import time\n",
    "time = time(second=15)\n",
    "print(\"\\nsecond\",time)"
   ]
  },
  {
   "cell_type": "code",
   "execution_count": 99,
   "id": "045f44d0-ac53-4a61-967c-70b6101fe22a",
   "metadata": {},
   "outputs": [
    {
     "name": "stdout",
     "output_type": "stream",
     "text": [
      "\n",
      "hour 15:00:00\n"
     ]
    }
   ],
   "source": [
    "#with 1 argument\n",
    "from datetime import time\n",
    "time = time(hour=15)\n",
    "print(\"\\nhour\",time)"
   ]
  },
  {
   "cell_type": "code",
   "execution_count": 105,
   "id": "92dc030c-cfbe-4881-b6bb-de19e07308b7",
   "metadata": {},
   "outputs": [
    {
     "name": "stdout",
     "output_type": "stream",
     "text": [
      "2022-12-05 15:15:15.026854\n"
     ]
    }
   ],
   "source": [
    "#initializing constructor\n",
    "#with time parameter as well\n",
    "#with 1 argument\n",
    "from datetime import datetime\n",
    "time = datetime(2022,12,5,15,15,15,26854)\n",
    "print(time)"
   ]
  },
  {
   "cell_type": "code",
   "execution_count": 107,
   "id": "a5e706a7-99b4-479f-a303-4050f5163a77",
   "metadata": {},
   "outputs": [],
   "source": [
    "################################################### Time delta ############################################"
   ]
  },
  {
   "cell_type": "code",
   "execution_count": 109,
   "id": "42e5aca3-9a8e-457c-a565-0129ba88011a",
   "metadata": {},
   "outputs": [
    {
     "name": "stdout",
     "output_type": "stream",
     "text": [
      "difference 31 days, 0:00:00\n",
      "date1 after 4 days:  2020-01-07 00:00:00\n",
      "date 1 before 15 days: 2019-12-23 00:00:00\n"
     ]
    }
   ],
   "source": [
    "from datetime import datetime,timedelta\n",
    "\n",
    "#creating datettime objects\n",
    "date1 = datetime (2020,1,3)\n",
    "date2 = datetime (2020,2,3)\n",
    "\n",
    "#diffrence between dates\n",
    "diff = date2 - date1\n",
    "print(\"difference\",diff)\n",
    "\n",
    "#adding days \n",
    "date1 += timedelta(days = 4)\n",
    "print(\"date1 after 4 days: \",date1)\n",
    "\n",
    "#substraction \n",
    "date1 -= timedelta(15)\n",
    "print(\"date 1 before 15 days:\",date1)"
   ]
  },
  {
   "cell_type": "code",
   "execution_count": 113,
   "id": "2ce3fcae-6cd7-4378-9701-bc2971600a55",
   "metadata": {},
   "outputs": [
    {
     "name": "stdout",
     "output_type": "stream",
     "text": [
      "minimum value of timedelta object -999999999 days, 0:00:00\n",
      "maximum value of timedelta object 999999999 days, 23:59:59.999999\n"
     ]
    }
   ],
   "source": [
    "from datetime import timedelta\n",
    "\n",
    "#getting minimum value\n",
    "Min = timedelta.min\n",
    "print(\"minimum value of timedelta object\",Min)\n",
    "\n",
    "#getting maximum value\n",
    "Max = timedelta.max\n",
    "print(\"maximum value of timedelta object\",Max)\n",
    "\n"
   ]
  },
  {
   "cell_type": "code",
   "execution_count": 115,
   "id": "90400eff-342a-4173-a53f-aff341d9586d",
   "metadata": {},
   "outputs": [],
   "source": [
    "################################# Calender Module ######################################"
   ]
  },
  {
   "cell_type": "code",
   "execution_count": 119,
   "id": "8ae4136a-6574-4310-ab42-dae8db06a40b",
   "metadata": {},
   "outputs": [
    {
     "name": "stdout",
     "output_type": "stream",
     "text": [
      "     July 2024\n",
      "Mo Tu We Th Fr Sa Su\n",
      " 1  2  3  4  5  6  7\n",
      " 8  9 10 11 12 13 14\n",
      "15 16 17 18 19 20 21\n",
      "22 23 24 25 26 27 28\n",
      "29 30 31\n",
      "\n"
     ]
    }
   ],
   "source": [
    "import calendar\n",
    "\n",
    "yy=2024\n",
    "mm=7\n",
    "\n",
    "#display the calender\n",
    "print(calendar.month(yy,mm))"
   ]
  },
  {
   "cell_type": "code",
   "execution_count": 121,
   "id": "8184b918-7796-4d89-9049-33ca34702c34",
   "metadata": {},
   "outputs": [
    {
     "name": "stdout",
     "output_type": "stream",
     "text": [
      "2018\n",
      "                                  2018\n",
      "\n",
      "      January                   February                   March\n",
      "Mo Tu We Th Fr Sa Su      Mo Tu We Th Fr Sa Su      Mo Tu We Th Fr Sa Su\n",
      " 1  2  3  4  5  6  7                1  2  3  4                1  2  3  4\n",
      " 8  9 10 11 12 13 14       5  6  7  8  9 10 11       5  6  7  8  9 10 11\n",
      "15 16 17 18 19 20 21      12 13 14 15 16 17 18      12 13 14 15 16 17 18\n",
      "22 23 24 25 26 27 28      19 20 21 22 23 24 25      19 20 21 22 23 24 25\n",
      "29 30 31                  26 27 28                  26 27 28 29 30 31\n",
      "\n",
      "       April                      May                       June\n",
      "Mo Tu We Th Fr Sa Su      Mo Tu We Th Fr Sa Su      Mo Tu We Th Fr Sa Su\n",
      "                   1          1  2  3  4  5  6                   1  2  3\n",
      " 2  3  4  5  6  7  8       7  8  9 10 11 12 13       4  5  6  7  8  9 10\n",
      " 9 10 11 12 13 14 15      14 15 16 17 18 19 20      11 12 13 14 15 16 17\n",
      "16 17 18 19 20 21 22      21 22 23 24 25 26 27      18 19 20 21 22 23 24\n",
      "23 24 25 26 27 28 29      28 29 30 31               25 26 27 28 29 30\n",
      "30\n",
      "\n",
      "        July                     August                  September\n",
      "Mo Tu We Th Fr Sa Su      Mo Tu We Th Fr Sa Su      Mo Tu We Th Fr Sa Su\n",
      "                   1             1  2  3  4  5                      1  2\n",
      " 2  3  4  5  6  7  8       6  7  8  9 10 11 12       3  4  5  6  7  8  9\n",
      " 9 10 11 12 13 14 15      13 14 15 16 17 18 19      10 11 12 13 14 15 16\n",
      "16 17 18 19 20 21 22      20 21 22 23 24 25 26      17 18 19 20 21 22 23\n",
      "23 24 25 26 27 28 29      27 28 29 30 31            24 25 26 27 28 29 30\n",
      "30 31\n",
      "\n",
      "      October                   November                  December\n",
      "Mo Tu We Th Fr Sa Su      Mo Tu We Th Fr Sa Su      Mo Tu We Th Fr Sa Su\n",
      " 1  2  3  4  5  6  7                1  2  3  4                      1  2\n",
      " 8  9 10 11 12 13 14       5  6  7  8  9 10 11       3  4  5  6  7  8  9\n",
      "15 16 17 18 19 20 21      12 13 14 15 16 17 18      10 11 12 13 14 15 16\n",
      "22 23 24 25 26 27 28      19 20 21 22 23 24 25      17 18 19 20 21 22 23\n",
      "29 30 31                  26 27 28 29 30            24 25 26 27 28 29 30\n",
      "                                                    31\n",
      "\n"
     ]
    }
   ],
   "source": [
    "#display calendar of giving of year\n",
    "#print calendar of 2018\n",
    "print(\"2018\")\n",
    "print(calendar.calendar(2018))"
   ]
  },
  {
   "cell_type": "code",
   "execution_count": 123,
   "id": "3e7a821b-85fa-4565-9af7-a0e61bc5a99f",
   "metadata": {},
   "outputs": [],
   "source": [
    "#import html calendar"
   ]
  },
  {
   "cell_type": "code",
   "execution_count": 127,
   "id": "fcebafd5-29ab-4f47-b7fc-2e501cbce28c",
   "metadata": {},
   "outputs": [
    {
     "name": "stdout",
     "output_type": "stream",
     "text": [
      "<table border=\"0\" cellpadding=\"0\" cellspacing=\"0\" class=\"month\">\n",
      "<tr><th colspan=\"7\" class=\"month\">September 2022</th></tr>\n",
      "<tr><th class=\"mon\">Mon</th><th class=\"tue\">Tue</th><th class=\"wed\">Wed</th><th class=\"thu\">Thu</th><th class=\"fri\">Fri</th><th class=\"sat\">Sat</th><th class=\"sun\">Sun</th></tr>\n",
      "<tr><td class=\"noday\">&nbsp;</td><td class=\"noday\">&nbsp;</td><td class=\"noday\">&nbsp;</td><td class=\"thu\">1</td><td class=\"fri\">2</td><td class=\"sat\">3</td><td class=\"sun\">4</td></tr>\n",
      "<tr><td class=\"mon\">5</td><td class=\"tue\">6</td><td class=\"wed\">7</td><td class=\"thu\">8</td><td class=\"fri\">9</td><td class=\"sat\">10</td><td class=\"sun\">11</td></tr>\n",
      "<tr><td class=\"mon\">12</td><td class=\"tue\">13</td><td class=\"wed\">14</td><td class=\"thu\">15</td><td class=\"fri\">16</td><td class=\"sat\">17</td><td class=\"sun\">18</td></tr>\n",
      "<tr><td class=\"mon\">19</td><td class=\"tue\">20</td><td class=\"wed\">21</td><td class=\"thu\">22</td><td class=\"fri\">23</td><td class=\"sat\">24</td><td class=\"sun\">25</td></tr>\n",
      "<tr><td class=\"mon\">26</td><td class=\"tue\">27</td><td class=\"wed\">28</td><td class=\"thu\">29</td><td class=\"fri\">30</td><td class=\"noday\">&nbsp;</td><td class=\"noday\">&nbsp;</td></tr>\n",
      "</table>\n",
      "\n"
     ]
    }
   ],
   "source": [
    "import calendar\n",
    "\n",
    "text_cal = calendar.HTMLCalendar(firstweekday = 0)\n",
    "\n",
    "year = 2022\n",
    "month=9\n",
    "print(text_cal.formatmonth(year,month))"
   ]
  },
  {
   "cell_type": "code",
   "execution_count": null,
   "id": "58613df4-0454-4fcf-b901-b50aca598027",
   "metadata": {},
   "outputs": [],
   "source": []
  }
 ],
 "metadata": {
  "kernelspec": {
   "display_name": "Python [conda env:base] *",
   "language": "python",
   "name": "conda-base-py"
  },
  "language_info": {
   "codemirror_mode": {
    "name": "ipython",
    "version": 3
   },
   "file_extension": ".py",
   "mimetype": "text/x-python",
   "name": "python",
   "nbconvert_exporter": "python",
   "pygments_lexer": "ipython3",
   "version": "3.12.7"
  }
 },
 "nbformat": 4,
 "nbformat_minor": 5
}
