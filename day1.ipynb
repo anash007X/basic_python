{
 "cells": [
  {
   "cell_type": "code",
   "execution_count": 1,
   "id": "35dfb6d4-b1c3-46a8-8427-199a3622eaff",
   "metadata": {},
   "outputs": [
    {
     "data": {
      "text/plain": [
       "'good morning'"
      ]
     },
     "execution_count": 1,
     "metadata": {},
     "output_type": "execute_result"
    }
   ],
   "source": [
    "\"good morning\""
   ]
  },
  {
   "cell_type": "code",
   "execution_count": 3,
   "id": "bdf47bbb-9ae5-4712-a711-dbdc67ea2000",
   "metadata": {},
   "outputs": [
    {
     "ename": "NameError",
     "evalue": "name 'Anash' is not defined",
     "output_type": "error",
     "traceback": [
      "\u001b[1;31m---------------------------------------------------------------------------\u001b[0m",
      "\u001b[1;31mNameError\u001b[0m                                 Traceback (most recent call last)",
      "Cell \u001b[1;32mIn[3], line 1\u001b[0m\n\u001b[1;32m----> 1\u001b[0m \u001b[38;5;28mprint\u001b[39m(Anash)\n",
      "\u001b[1;31mNameError\u001b[0m: name 'Anash' is not defined"
     ]
    }
   ],
   "source": [
    "print(Anash)"
   ]
  },
  {
   "cell_type": "code",
   "execution_count": 5,
   "id": "dd257011-0082-415e-88d8-0edfb86f40ba",
   "metadata": {},
   "outputs": [
    {
     "name": "stdout",
     "output_type": "stream",
     "text": [
      "anash\n"
     ]
    }
   ],
   "source": [
    "print(\"anash\")"
   ]
  },
  {
   "cell_type": "code",
   "execution_count": 9,
   "id": "7bbd26cf-f4e0-49df-9d46-187ba0a9dd8f",
   "metadata": {},
   "outputs": [
    {
     "name": "stdout",
     "output_type": "stream",
     "text": [
      "anash\n"
     ]
    }
   ],
   "source": [
    "a=\"anash\"\n",
    "print(a)"
   ]
  },
  {
   "cell_type": "code",
   "execution_count": 11,
   "id": "e2b5253a-a690-429e-9fc8-ba4e37b12f84",
   "metadata": {},
   "outputs": [
    {
     "data": {
      "text/plain": [
       "True"
      ]
     },
     "execution_count": 11,
     "metadata": {},
     "output_type": "execute_result"
    }
   ],
   "source": [
    "12>10"
   ]
  },
  {
   "cell_type": "code",
   "execution_count": 13,
   "id": "90140f5b-6f9f-4d8b-a454-8bcdce86d00e",
   "metadata": {},
   "outputs": [
    {
     "data": {
      "text/plain": [
       "True"
      ]
     },
     "execution_count": 13,
     "metadata": {},
     "output_type": "execute_result"
    }
   ],
   "source": [
    "10<12"
   ]
  },
  {
   "cell_type": "code",
   "execution_count": 15,
   "id": "2cc171d1-7645-4a60-a533-96d10dc92153",
   "metadata": {},
   "outputs": [
    {
     "name": "stdout",
     "output_type": "stream",
     "text": [
      "ANASHKHALIFA\n"
     ]
    }
   ],
   "source": [
    "a=\"ANASHKHALIFA\"\n",
    "print(a)\n"
   ]
  },
  {
   "cell_type": "code",
   "execution_count": 19,
   "id": "64f998f8-08af-421d-bae4-d5697781fd2e",
   "metadata": {},
   "outputs": [
    {
     "data": {
      "text/plain": [
       "'A'"
      ]
     },
     "execution_count": 19,
     "metadata": {},
     "output_type": "execute_result"
    }
   ],
   "source": [
    "a[0]"
   ]
  },
  {
   "cell_type": "code",
   "execution_count": 21,
   "id": "e66c8afa-3fb9-41c2-b984-3c5a7c3ae4ca",
   "metadata": {},
   "outputs": [
    {
     "data": {
      "text/plain": [
       "12"
      ]
     },
     "execution_count": 21,
     "metadata": {},
     "output_type": "execute_result"
    }
   ],
   "source": [
    "len(a)"
   ]
  },
  {
   "cell_type": "code",
   "execution_count": 23,
   "id": "65c96154-fdf7-417f-95ad-7d71982cdf00",
   "metadata": {},
   "outputs": [
    {
     "data": {
      "text/plain": [
       "'H'"
      ]
     },
     "execution_count": 23,
     "metadata": {},
     "output_type": "execute_result"
    }
   ],
   "source": [
    "a[6]"
   ]
  },
  {
   "cell_type": "code",
   "execution_count": 25,
   "id": "b1d6d7aa-e609-495d-9fd6-021ae523d011",
   "metadata": {},
   "outputs": [
    {
     "data": {
      "text/plain": [
       "'AAHHLF'"
      ]
     },
     "execution_count": 25,
     "metadata": {},
     "output_type": "execute_result"
    }
   ],
   "source": [
    "a[0:12:2]"
   ]
  },
  {
   "cell_type": "code",
   "execution_count": 27,
   "id": "1bc3fd87-62a4-41d1-bff6-c6a5484a954c",
   "metadata": {},
   "outputs": [
    {
     "data": {
      "text/plain": [
       "'AFILAHKHSANA'"
      ]
     },
     "execution_count": 27,
     "metadata": {},
     "output_type": "execute_result"
    }
   ],
   "source": [
    "a[::-1]"
   ]
  },
  {
   "cell_type": "code",
   "execution_count": 29,
   "id": "d9fb19aa-fb03-427f-a4e8-3acb19a4e77b",
   "metadata": {},
   "outputs": [
    {
     "data": {
      "text/plain": [
       "'ANASHKHALI'"
      ]
     },
     "execution_count": 29,
     "metadata": {},
     "output_type": "execute_result"
    }
   ],
   "source": [
    "a[0:-2]"
   ]
  },
  {
   "cell_type": "code",
   "execution_count": 31,
   "id": "0c133419-d9e4-4079-9278-b196c3160235",
   "metadata": {},
   "outputs": [
    {
     "data": {
      "text/plain": [
       "str"
      ]
     },
     "execution_count": 31,
     "metadata": {},
     "output_type": "execute_result"
    }
   ],
   "source": [
    "type(a)"
   ]
  },
  {
   "cell_type": "code",
   "execution_count": 35,
   "id": "4064f5e3-b843-49b8-9044-0493c2695ba4",
   "metadata": {},
   "outputs": [
    {
     "data": {
      "text/plain": [
       "int"
      ]
     },
     "execution_count": 35,
     "metadata": {},
     "output_type": "execute_result"
    }
   ],
   "source": [
    "b=2\n",
    "type(b)"
   ]
  },
  {
   "cell_type": "code",
   "execution_count": 37,
   "id": "4e720d1b-f996-4667-9784-d4e982dae76a",
   "metadata": {},
   "outputs": [
    {
     "data": {
      "text/plain": [
       "float"
      ]
     },
     "execution_count": 37,
     "metadata": {},
     "output_type": "execute_result"
    }
   ],
   "source": [
    "c=43.45\n",
    "type(c)"
   ]
  },
  {
   "cell_type": "code",
   "execution_count": 41,
   "id": "0dad6f84-972d-4d07-b8f6-99740d17090d",
   "metadata": {},
   "outputs": [
    {
     "data": {
      "text/plain": [
       "complex"
      ]
     },
     "execution_count": 41,
     "metadata": {},
     "output_type": "execute_result"
    }
   ],
   "source": [
    "d=5+6j\n",
    "type(d)"
   ]
  },
  {
   "cell_type": "markdown",
   "id": "d353dd4c-152f-4c8f-a4ce-96185723127f",
   "metadata": {},
   "source": [
    "input value"
   ]
  },
  {
   "cell_type": "code",
   "execution_count": 45,
   "id": "ef9aaaa8-8047-49e4-8484-1bdb48de8571",
   "metadata": {},
   "outputs": [
    {
     "name": "stdin",
     "output_type": "stream",
     "text": [
      "Enter number:  23\n"
     ]
    }
   ],
   "source": [
    "a=input(\"Enter number: \")"
   ]
  },
  {
   "cell_type": "code",
   "execution_count": 47,
   "id": "7335b715-90d7-45df-86d9-846bbf5a1bfb",
   "metadata": {},
   "outputs": [
    {
     "name": "stdin",
     "output_type": "stream",
     "text": [
      "Enter number:  23\n"
     ]
    }
   ],
   "source": [
    "a=int(input(\"Enter number: \"))"
   ]
  },
  {
   "cell_type": "code",
   "execution_count": 49,
   "id": "d8b8dc9d-6ffe-4914-9471-b1604c2e1edf",
   "metadata": {},
   "outputs": [
    {
     "name": "stdin",
     "output_type": "stream",
     "text": [
      "Enter number:  23\n"
     ]
    }
   ],
   "source": [
    "a=float(input(\"Enter number: \"))"
   ]
  },
  {
   "cell_type": "code",
   "execution_count": 51,
   "id": "f92ccdbf-29bf-4014-a1af-78a319a8c5d6",
   "metadata": {},
   "outputs": [
    {
     "name": "stdin",
     "output_type": "stream",
     "text": [
      "Enter number:  23.67\n"
     ]
    }
   ],
   "source": [
    "a=float(input(\"Enter number: \"))"
   ]
  },
  {
   "cell_type": "code",
   "execution_count": 53,
   "id": "b9a377de-f166-4c51-9152-eed55e68bd51",
   "metadata": {},
   "outputs": [
    {
     "name": "stdin",
     "output_type": "stream",
     "text": [
      "Enter number:  stf\n"
     ]
    },
    {
     "ename": "ValueError",
     "evalue": "invalid literal for int() with base 10: 'stf'",
     "output_type": "error",
     "traceback": [
      "\u001b[1;31m---------------------------------------------------------------------------\u001b[0m",
      "\u001b[1;31mValueError\u001b[0m                                Traceback (most recent call last)",
      "Cell \u001b[1;32mIn[53], line 1\u001b[0m\n\u001b[1;32m----> 1\u001b[0m a\u001b[38;5;241m=\u001b[39m\u001b[38;5;28mint\u001b[39m(\u001b[38;5;28minput\u001b[39m(\u001b[38;5;124m\"\u001b[39m\u001b[38;5;124mEnter number: \u001b[39m\u001b[38;5;124m\"\u001b[39m))\n",
      "\u001b[1;31mValueError\u001b[0m: invalid literal for int() with base 10: 'stf'"
     ]
    }
   ],
   "source": [
    "a=int(input(\"Enter number: \"))"
   ]
  },
  {
   "cell_type": "code",
   "execution_count": 62,
   "id": "cb1fa4a8-95eb-410d-a408-883ceb2d510b",
   "metadata": {},
   "outputs": [
    {
     "name": "stdin",
     "output_type": "stream",
     "text": [
      "n1 5\n",
      "n2 5\n"
     ]
    },
    {
     "name": "stdout",
     "output_type": "stream",
     "text": [
      "addition:  10\n",
      "substraction:  0\n",
      "multification:  25\n",
      "division:  1.0\n"
     ]
    }
   ],
   "source": [
    "a=int(input(\"n1\")) \n",
    "b=int(input(\"n2\"))\n",
    "print(\"addition: \",a+b)\n",
    "print(\"substraction: \",a-b)\n",
    "print(\"multification: \",a*b)\n",
    "print(\"division: \",a/b)"
   ]
  },
  {
   "cell_type": "code",
   "execution_count": 64,
   "id": "b484541b-c069-43ce-910d-836620a34c95",
   "metadata": {},
   "outputs": [],
   "source": [
    " #ifelse\n"
   ]
  },
  {
   "cell_type": "code",
   "execution_count": 74,
   "id": "eb68d5ac-3acc-4d17-8722-27958abfdd35",
   "metadata": {},
   "outputs": [
    {
     "name": "stdin",
     "output_type": "stream",
     "text": [
      "Enter number:  -5\n"
     ]
    },
    {
     "name": "stdout",
     "output_type": "stream",
     "text": [
      "Negative\n"
     ]
    }
   ],
   "source": [
    "a=int(input(\"Enter number: \"))\n",
    "if a>0:\n",
    "    print(\"Positive\")\n",
    "elif a==0:\n",
    "    print(\"Null\")\n",
    "else:\n",
    "    print(\"Negative\")"
   ]
  },
  {
   "cell_type": "code",
   "execution_count": 82,
   "id": "9b795aae-6be9-4470-80b7-7be3a42fae3e",
   "metadata": {},
   "outputs": [
    {
     "name": "stdin",
     "output_type": "stream",
     "text": [
      "Enter number:  4\n",
      "Enter number:  4\n"
     ]
    },
    {
     "name": "stdout",
     "output_type": "stream",
     "text": [
      "same\n"
     ]
    }
   ],
   "source": [
    "a=int(input(\"Enter number: \"))\n",
    "b=int(input(\"Enter number: \"))\n",
    "if a>b:\n",
    "    print(\"a is greater than b\")\n",
    "elif a==b:\n",
    "    print(\"same\")\n",
    "else:\n",
    "    print(\"b is greater than a\")\n"
   ]
  },
  {
   "cell_type": "code",
   "execution_count": 84,
   "id": "77d65dda-955c-4d25-bebc-e1e36da4f358",
   "metadata": {},
   "outputs": [
    {
     "name": "stdin",
     "output_type": "stream",
     "text": [
      "Enter number:  5\n",
      "Enter number:  6\n"
     ]
    },
    {
     "name": "stdout",
     "output_type": "stream",
     "text": [
      "6 is greater than 5\n"
     ]
    }
   ],
   "source": [
    "a=int(input(\"Enter number: \"))\n",
    "b=int(input(\"Enter number: \"))\n",
    "if a>b:\n",
    "    print(f\"{a} is greater than {b}\")\n",
    "elif a==b:\n",
    "    print(\"same\")\n",
    "else:\n",
    "    print(f\"{b} is greater than {a}\")\n"
   ]
  },
  {
   "cell_type": "code",
   "execution_count": 92,
   "id": "b6bd2375-7bda-45df-ac2c-12566020a21e",
   "metadata": {},
   "outputs": [
    {
     "name": "stdin",
     "output_type": "stream",
     "text": [
      "Enter name: anash\n",
      "Enter Name:  khalifa\n"
     ]
    },
    {
     "name": "stdout",
     "output_type": "stream",
     "text": [
      "anash word is smaller than khalifa\n"
     ]
    }
   ],
   "source": [
    "a=input(\"Enter name:\")\n",
    "b=input(\"Enter Name: \")\n",
    "if len(a)>len(b):\n",
    "    print (f\"{a} word is bigger than {b}\")\n",
    "else:\n",
    "    print(f\"{a} word is smaller than {b}\")"
   ]
  },
  {
   "cell_type": "code",
   "execution_count": 98,
   "id": "b938d627-114c-470b-858b-73d4100a4eb7",
   "metadata": {},
   "outputs": [
    {
     "name": "stdin",
     "output_type": "stream",
     "text": [
      "Enter name: 5\n"
     ]
    },
    {
     "name": "stdout",
     "output_type": "stream",
     "text": [
      "number is odd\n"
     ]
    }
   ],
   "source": [
    "a=int(input(\"Enter name:\"))\n",
    "if a%2==0:\n",
    "    print (\"number is even\")\n",
    "else:\n",
    "    print(\"number is odd\")"
   ]
  },
  {
   "cell_type": "code",
   "execution_count": 100,
   "id": "6066c94b-7e01-49a9-9125-ec2fd81b1b81",
   "metadata": {},
   "outputs": [],
   "source": [
    "#palindrone word\n"
   ]
  },
  {
   "cell_type": "code",
   "execution_count": 112,
   "id": "f51cecab-f768-4031-897c-81baa2cce608",
   "metadata": {},
   "outputs": [
    {
     "name": "stdin",
     "output_type": "stream",
     "text": [
      "enter name:  kanak\n"
     ]
    },
    {
     "name": "stdout",
     "output_type": "stream",
     "text": [
      "Palindrome\n"
     ]
    }
   ],
   "source": [
    "a=input(\"enter name: \")\n",
    "b=a[::-1]\n",
    "\n",
    "if a==b:\n",
    "    print(\"Palindrome\")\n",
    "else:\n",
    "    print(\"not palindrome\")"
   ]
  },
  {
   "cell_type": "code",
   "execution_count": 114,
   "id": "e3c2223f-1b82-4fe6-8b87-ed5a2d1df80f",
   "metadata": {},
   "outputs": [],
   "source": [
    "#subjects marks\n"
   ]
  },
  {
   "cell_type": "code",
   "execution_count": 132,
   "id": "e621a1b9-2992-4f0c-a957-7f54830dc035",
   "metadata": {},
   "outputs": [
    {
     "name": "stdin",
     "output_type": "stream",
     "text": [
      "Enter marks of Maths: 34\n",
      "Enter marks of English: 52\n",
      "Enter marks of Science: 20\n"
     ]
    },
    {
     "name": "stdout",
     "output_type": "stream",
     "text": [
      "Total marks 106.0\n",
      "Percentage 35.333333333333336\n",
      "fail\n"
     ]
    }
   ],
   "source": [
    "Maths=float(input(\"Enter marks of Maths:\"))\n",
    "Eng=float(input(\"Enter marks of English:\"))\n",
    "Sci=float(input(\"Enter marks of Science:\"))\n",
    "\n",
    "total=Maths+Eng+Sci\n",
    "\n",
    "per=(total/300)*100\n",
    "\n",
    "print(\"Total marks\",total)\n",
    "print(\"Percentage\",per)\n",
    "\n",
    "if per<40:\n",
    "    print(\"fail\")\n",
    "\n",
    "elif per>=40 and per<=50:\n",
    "    print(\"C grade\")\n",
    "elif per>=50 and per<60:\n",
    "    print(\"B grade\")\n",
    "elif per>=60 and per<70:\n",
    "    print(\"A grade\")\n",
    "elif per>=70 and per<100:\n",
    "    print(\"A+ grade\")\n",
    "else:\n",
    "    print(\"Invalid input\")\n"
   ]
  },
  {
   "cell_type": "code",
   "execution_count": 136,
   "id": "ffcd8a26-c7da-43cd-87c4-977be04f7af5",
   "metadata": {},
   "outputs": [],
   "source": [
    "#nested ifelse"
   ]
  },
  {
   "cell_type": "code",
   "execution_count": 1,
   "id": "64a36086-bde7-45a5-804e-8496aaebfdc3",
   "metadata": {},
   "outputs": [
    {
     "name": "stdin",
     "output_type": "stream",
     "text": [
      "number:  3\n"
     ]
    },
    {
     "name": "stdout",
     "output_type": "stream",
     "text": [
      "Divible by 3\n"
     ]
    }
   ],
   "source": [
    "num = int(input(\"number: \"))\n",
    "if num%3==0:\n",
    "    if num%5==0:\n",
    "        print(\"Divisible by both\")\n",
    "    else:\n",
    "        print(\"Divible by 3\")\n",
    "else:\n",
    "    if num%5==0:\n",
    "        print(\"divible by 5\")\n",
    "    else:\n",
    "        print(\"not divicible\")"
   ]
  },
  {
   "cell_type": "markdown",
   "id": "4c808561-9498-4e2e-9087-39729fba896b",
   "metadata": {},
   "source": [
    "################################################### day2 ##############################################\n"
   ]
  },
  {
   "cell_type": "code",
   "execution_count": 4,
   "id": "fb5cfbf9-79c2-48e9-b022-0db0e64a7202",
   "metadata": {},
   "outputs": [],
   "source": [
    "#check alphabet using list"
   ]
  },
  {
   "cell_type": "code",
   "execution_count": 11,
   "id": "be3d31c7-a2c1-4312-9df0-46be7e5d2c7a",
   "metadata": {},
   "outputs": [
    {
     "name": "stdin",
     "output_type": "stream",
     "text": [
      "enter alphabet: a\n"
     ]
    },
    {
     "name": "stdout",
     "output_type": "stream",
     "text": [
      "It is vowel\n"
     ]
    }
   ],
   "source": [
    "a=input(\"enter alphabet:\")\n",
    "\n",
    "if a in(\"a\",\"e\",\"i\",\"o\",\"u\"):\n",
    "    print(\"It is vowel\")\n",
    "\n",
    "elif a in(\"A\",\"I\",\"E\",\"O\",\"U\"):\n",
    "    print(\"It is vowel\")\n",
    "\n",
    "else:\n",
    "    print(\"It is constant\")"
   ]
  },
  {
   "cell_type": "code",
   "execution_count": 13,
   "id": "ec55f6c4-0c9a-4001-b13a-20c2b7aa4972",
   "metadata": {},
   "outputs": [],
   "source": [
    "#check month days using list"
   ]
  },
  {
   "cell_type": "code",
   "execution_count": 15,
   "id": "34e5be07-7b52-4e02-b836-d46fc2e3a864",
   "metadata": {},
   "outputs": [
    {
     "name": "stdin",
     "output_type": "stream",
     "text": [
      "Enter the month name: january\n"
     ]
    },
    {
     "name": "stdout",
     "output_type": "stream",
     "text": [
      "Day of month is 31\n"
     ]
    }
   ],
   "source": [
    "a=input(\"Enter the month name:\")\n",
    "\n",
    "if a in(\"january\",\"march\",\"may\",\"july\",\"september\",\"octomber\",\"december\"):\n",
    "    print(\"Day of month is 31\")\n",
    "elif a in (\"february\"):\n",
    "    print(\"Day of month is 28\")\n",
    "elif a in(\"april\",\"june\",\"august\",\"november\"):\n",
    "    print(\"Day of month is 30\")\n",
    "else:\n",
    "    print(\"Chech the month name\")"
   ]
  },
  {
   "cell_type": "code",
   "execution_count": null,
   "id": "2780cadc-ebcd-4173-aa0b-fc12279dd5b9",
   "metadata": {},
   "outputs": [],
   "source": []
  }
 ],
 "metadata": {
  "kernelspec": {
   "display_name": "Python [conda env:base] *",
   "language": "python",
   "name": "conda-base-py"
  },
  "language_info": {
   "codemirror_mode": {
    "name": "ipython",
    "version": 3
   },
   "file_extension": ".py",
   "mimetype": "text/x-python",
   "name": "python",
   "nbconvert_exporter": "python",
   "pygments_lexer": "ipython3",
   "version": "3.12.7"
  }
 },
 "nbformat": 4,
 "nbformat_minor": 5
}
